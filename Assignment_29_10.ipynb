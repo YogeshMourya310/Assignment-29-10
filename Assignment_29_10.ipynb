{
  "nbformat": 4,
  "nbformat_minor": 0,
  "metadata": {
    "colab": {
      "provenance": []
    },
    "kernelspec": {
      "name": "python3",
      "display_name": "Python 3"
    },
    "language_info": {
      "name": "python"
    }
  },
  "cells": [
    {
      "cell_type": "markdown",
      "source": [
        "1. write a function which will try to find out len of a string without using an inbuilt len function "
      ],
      "metadata": {
        "id": "RtuVd3PhkuqH"
      }
    },
    {
      "cell_type": "code",
      "execution_count": 12,
      "metadata": {
        "colab": {
          "base_uri": "https://localhost:8080/"
        },
        "id": "SX2ax3vBkr4Z",
        "outputId": "1e8f28c1-e78c-42e0-b16f-06862d7ab4d3"
      },
      "outputs": [
        {
          "name": "stdout",
          "output_type": "stream",
          "text": [
            "Enter a string jikm\n"
          ]
        }
      ],
      "source": [
        "l = input(\"Enter a string \")\n",
        "def len1(l):\n",
        "  s = 0\n",
        "  for i in l:\n",
        "    s=1+s\n",
        "  return s\n",
        "  print(\"len of string is : \",s)\n"
      ]
    },
    {
      "cell_type": "code",
      "source": [
        "len1(\"sudh\")"
      ],
      "metadata": {
        "colab": {
          "base_uri": "https://localhost:8080/"
        },
        "id": "jadmbjCNo5WA",
        "outputId": "f9cba39e-6a92-49be-afc7-ea7df44463e3"
      },
      "execution_count": 13,
      "outputs": [
        {
          "output_type": "execute_result",
          "data": {
            "text/plain": [
              "4"
            ]
          },
          "metadata": {},
          "execution_count": 13
        }
      ]
    },
    {
      "cell_type": "markdown",
      "source": [
        "2. write a function which will be able to print an index of list element without using an index function"
      ],
      "metadata": {
        "id": "6qfQ8rnosj28"
      }
    },
    {
      "cell_type": "code",
      "source": [
        "l1 = [5,4,3,2,1,0]\n",
        "def index(c1):\n",
        "  c = 0\n",
        "  for i in l1:\n",
        "    if c1 == i:\n",
        "      break\n",
        "    else: c=1+c\n",
        "  return c\n",
        "  print(c)  \n",
        "\n"
      ],
      "metadata": {
        "id": "qaf5KXA8o718"
      },
      "execution_count": 47,
      "outputs": []
    },
    {
      "cell_type": "code",
      "source": [
        "index(4)"
      ],
      "metadata": {
        "colab": {
          "base_uri": "https://localhost:8080/"
        },
        "id": "GS3OPjZEt5Hr",
        "outputId": "633d3a1e-d608-4f7b-f72c-7185aa32b1ab"
      },
      "execution_count": 49,
      "outputs": [
        {
          "output_type": "execute_result",
          "data": {
            "text/plain": [
              "1"
            ]
          },
          "metadata": {},
          "execution_count": 49
        }
      ]
    },
    {
      "cell_type": "markdown",
      "source": [
        "3. write a function which will be able to print an ip address of your system"
      ],
      "metadata": {
        "id": "ovOgjie3zJk9"
      }
    },
    {
      "cell_type": "code",
      "source": [
        "import socket\n",
        "def ip():\n",
        "  hostname1 = socket.gethostname()\n",
        "  IPAddr = socket.gethostbyname(hostname1)\n",
        "  print(\"Your Computer Name is:\" + hostname1)\n",
        "  print(\"Your Computer IP Address is:\" + IPAddr)\n",
        "\n"
      ],
      "metadata": {
        "id": "itzS44uLwZLO"
      },
      "execution_count": 56,
      "outputs": []
    },
    {
      "cell_type": "code",
      "source": [
        "ip()"
      ],
      "metadata": {
        "id": "wsJFzcU02mUe"
      },
      "execution_count": null,
      "outputs": []
    },
    {
      "cell_type": "markdown",
      "source": [
        "4. write a function which will shutdown your system."
      ],
      "metadata": {
        "id": "ops6erpF3rDy"
      }
    },
    {
      "cell_type": "code",
      "source": [
        "def pc_shutdown():\n",
        "  import os\n",
        "  shutdown = input(\"Do you wish to shutdown your computer ? (yes / no): \")\n",
        "  if shutdown == 'no':\n",
        "    exit() \n",
        "  else: os.system(\"shutdown /s /t 1\")"
      ],
      "metadata": {
        "id": "3Xd_gffr31WE"
      },
      "execution_count": 65,
      "outputs": []
    },
    {
      "cell_type": "code",
      "source": [
        "pc_shutdown()"
      ],
      "metadata": {
        "colab": {
          "base_uri": "https://localhost:8080/"
        },
        "id": "f2JjJdgD4R-Z",
        "outputId": "a16dcb7c-c1b6-4ec9-c8fd-cdecf4b65a79"
      },
      "execution_count": 66,
      "outputs": [
        {
          "name": "stdout",
          "output_type": "stream",
          "text": [
            "Do you wish to shutdown your computer ? (yes / no): no\n"
          ]
        }
      ]
    },
    {
      "cell_type": "markdown",
      "source": [
        "5. write a function which will take input as a list with any kind of numeric value and give an out as a multiplication of all the numeric data l = [3.5, 6.56, 4,5,\"sudh\", \"ineuron\" 'fsda bootcamp 2.0']"
      ],
      "metadata": {
        "id": "tMv2ovfD5DZn"
      }
    },
    {
      "cell_type": "code",
      "source": [
        "def mul():\n",
        "  l = [3.5, 6.56, 4,5,\"sudh\", \"ineuron\" 'fsda bootcamp 2.0']\n",
        "  l\n",
        "  for i in l:\n",
        "    m=1\n",
        "    if i == type(int) or type(float):\n",
        "      m= m*i\n",
        "  print(m)"
      ],
      "metadata": {
        "id": "G89cAIEV45eO"
      },
      "execution_count": 17,
      "outputs": []
    },
    {
      "cell_type": "code",
      "source": [
        "mul()"
      ],
      "metadata": {
        "colab": {
          "base_uri": "https://localhost:8080/"
        },
        "id": "bRuCy8AN5p1z",
        "outputId": "652bb5a9-94fe-4f68-988f-98317337f155"
      },
      "execution_count": 18,
      "outputs": [
        {
          "output_type": "stream",
          "name": "stdout",
          "text": [
            "ineuronfsda bootcamp 2.0\n"
          ]
        }
      ]
    },
    {
      "cell_type": "markdown",
      "source": [
        "6. write a function which will be able to read all the mails"
      ],
      "metadata": {
        "id": "dbs-iqrC8WNG"
      }
    },
    {
      "cell_type": "code",
      "source": [
        "import imaplib\n",
        "import email\n",
        "from email.header import decode_header\n",
        "import webbrowser\n",
        "import os\n",
        "\n",
        "# account credentials\n",
        "username = \"youremailaddress@provider.com\"\n",
        "password = \"yourpassword\"\n",
        "# use your email provider's IMAP server, you can look for your provider's IMAP server on Google\n",
        "# or check this page: https://www.systoolsgroup.com/imap/\n",
        "# for office 365, it's this:\n",
        "imap_server = \"outlook.office365.com\"\n",
        "\n",
        "def clean(text):\n",
        "    # clean text for creating a folder\n",
        "    return \"\".join(c if c.isalnum() else \"_\" for c in text)"
      ],
      "metadata": {
        "id": "rAi6nUH47A18"
      },
      "execution_count": 19,
      "outputs": []
    },
    {
      "cell_type": "markdown",
      "source": [
        "8.write a function which will be able to read a doc/word file from your system"
      ],
      "metadata": {
        "id": "4xCCneb49aLN"
      }
    },
    {
      "cell_type": "code",
      "source": [
        "import docx\n",
        "\n",
        "def readtxt(filename):\n",
        "    doc = docx.Document(filename)\n",
        "    fullText = []\n",
        "    for para in doc.paragraphs:\n",
        "        fullText.append(para.text)\n",
        "    return '\\n'.join(fullText)\n",
        "\n",
        "print (readtxt('path\\Tutorialspoint.docx'))"
      ],
      "metadata": {
        "id": "zJYyuoOn9P7T"
      },
      "execution_count": null,
      "outputs": []
    }
  ]
}